{
  "nbformat": 4,
  "nbformat_minor": 0,
  "metadata": {
    "colab": {
      "provenance": []
    },
    "kernelspec": {
      "name": "python3",
      "display_name": "Python 3"
    },
    "language_info": {
      "name": "python"
    }
  },
  "cells": [
    {
      "cell_type": "code",
      "execution_count": 1,
      "metadata": {
        "colab": {
          "base_uri": "https://localhost:8080/"
        },
        "id": "KqaFs9F2Zvow",
        "outputId": "9036a6a8-dd8a-43d5-b0b6-2b58ec673125"
      },
      "outputs": [
        {
          "output_type": "stream",
          "name": "stdout",
          "text": [
            "\u001b[2K     \u001b[90m━━━━━━━━━━━━━━━━━━━━━━━━━━━━━━━━━━━━━━━━\u001b[0m \u001b[32m89.7/89.7 kB\u001b[0m \u001b[31m3.4 MB/s\u001b[0m eta \u001b[36m0:00:00\u001b[0m\n",
            "\u001b[?25h  Preparing metadata (setup.py) ... \u001b[?25l\u001b[?25hdone\n",
            "\u001b[2K     \u001b[90m━━━━━━━━━━━━━━━━━━━━━━━━━━━━━━━━━━━━━━━\u001b[0m \u001b[32m152.0/152.0 kB\u001b[0m \u001b[31m7.3 MB/s\u001b[0m eta \u001b[36m0:00:00\u001b[0m\n",
            "\u001b[?25h  Preparing metadata (setup.py) ... \u001b[?25l\u001b[?25hdone\n",
            "\u001b[2K     \u001b[90m━━━━━━━━━━━━━━━━━━━━━━━━━━━━━━━━━━━━━━━━\u001b[0m \u001b[32m43.5/43.5 kB\u001b[0m \u001b[31m2.7 MB/s\u001b[0m eta \u001b[36m0:00:00\u001b[0m\n",
            "\u001b[?25h  Preparing metadata (setup.py) ... \u001b[?25l\u001b[?25hdone\n",
            "\u001b[2K     \u001b[90m━━━━━━━━━━━━━━━━━━━━━━━━━━━━━━━━━━━━━━\u001b[0m \u001b[32m173.5/173.5 kB\u001b[0m \u001b[31m11.5 MB/s\u001b[0m eta \u001b[36m0:00:00\u001b[0m\n",
            "\u001b[?25h  Preparing metadata (setup.py) ... \u001b[?25l\u001b[?25hdone\n",
            "\u001b[2K     \u001b[90m━━━━━━━━━━━━━━━━━━━━━━━━━━━━━━━━━━━━━━━━\u001b[0m \u001b[32m88.8/88.8 kB\u001b[0m \u001b[31m7.1 MB/s\u001b[0m eta \u001b[36m0:00:00\u001b[0m\n",
            "\u001b[?25h  Preparing metadata (setup.py) ... \u001b[?25l\u001b[?25hdone\n",
            "\u001b[2K   \u001b[90m━━━━━━━━━━━━━━━━━━━━━━━━━━━━━━━━━━━━━━━━\u001b[0m \u001b[32m1.2/1.2 MB\u001b[0m \u001b[31m32.4 MB/s\u001b[0m eta \u001b[36m0:00:00\u001b[0m\n",
            "\u001b[2K   \u001b[90m━━━━━━━━━━━━━━━━━━━━━━━━━━━━━━━━━━━━━━━━\u001b[0m \u001b[32m49.4/49.4 kB\u001b[0m \u001b[31m3.9 MB/s\u001b[0m eta \u001b[36m0:00:00\u001b[0m\n",
            "\u001b[2K   \u001b[90m━━━━━━━━━━━━━━━━━━━━━━━━━━━━━━━━━━━━━━━━\u001b[0m \u001b[32m3.5/3.5 MB\u001b[0m \u001b[31m108.0 MB/s\u001b[0m eta \u001b[36m0:00:00\u001b[0m\n",
            "\u001b[2K   \u001b[90m━━━━━━━━━━━━━━━━━━━━━━━━━━━━━━━━━━━━━━━━\u001b[0m \u001b[32m218.6/218.6 kB\u001b[0m \u001b[31m18.4 MB/s\u001b[0m eta \u001b[36m0:00:00\u001b[0m\n",
            "\u001b[2K   \u001b[90m━━━━━━━━━━━━━━━━━━━━━━━━━━━━━━━━━━━━━━━━\u001b[0m \u001b[32m319.2/319.2 kB\u001b[0m \u001b[31m24.9 MB/s\u001b[0m eta \u001b[36m0:00:00\u001b[0m\n",
            "\u001b[2K   \u001b[90m━━━━━━━━━━━━━━━━━━━━━━━━━━━━━━━━━━━━━━━━\u001b[0m \u001b[32m322.0/322.0 kB\u001b[0m \u001b[31m27.2 MB/s\u001b[0m eta \u001b[36m0:00:00\u001b[0m\n",
            "\u001b[2K   \u001b[90m━━━━━━━━━━━━━━━━━━━━━━━━━━━━━━━━━━━━━━━━\u001b[0m \u001b[32m212.2/212.2 kB\u001b[0m \u001b[31m17.4 MB/s\u001b[0m eta \u001b[36m0:00:00\u001b[0m\n",
            "\u001b[2K   \u001b[90m━━━━━━━━━━━━━━━━━━━━━━━━━━━━━━━━━━━━━━━━\u001b[0m \u001b[32m276.7/276.7 kB\u001b[0m \u001b[31m22.6 MB/s\u001b[0m eta \u001b[36m0:00:00\u001b[0m\n",
            "\u001b[2K   \u001b[90m━━━━━━━━━━━━━━━━━━━━━━━━━━━━━━━━━━━━━━━━\u001b[0m \u001b[32m529.1/529.1 kB\u001b[0m \u001b[31m38.5 MB/s\u001b[0m eta \u001b[36m0:00:00\u001b[0m\n",
            "\u001b[2K   \u001b[90m━━━━━━━━━━━━━━━━━━━━━━━━━━━━━━━━━━━━━━━━\u001b[0m \u001b[32m5.6/5.6 MB\u001b[0m \u001b[31m139.0 MB/s\u001b[0m eta \u001b[36m0:00:00\u001b[0m\n",
            "\u001b[2K   \u001b[90m━━━━━━━━━━━━━━━━━━━━━━━━━━━━━━━━━━━━━━━━\u001b[0m \u001b[32m96.9/96.9 kB\u001b[0m \u001b[31m7.2 MB/s\u001b[0m eta \u001b[36m0:00:00\u001b[0m\n",
            "\u001b[2K   \u001b[90m━━━━━━━━━━━━━━━━━━━━━━━━━━━━━━━━━━━━━━━━\u001b[0m \u001b[32m46.3/46.3 kB\u001b[0m \u001b[31m3.6 MB/s\u001b[0m eta \u001b[36m0:00:00\u001b[0m\n",
            "\u001b[2K   \u001b[90m━━━━━━━━━━━━━━━━━━━━━━━━━━━━━━━━━━━━━━━━\u001b[0m \u001b[32m57.8/57.8 kB\u001b[0m \u001b[31m4.7 MB/s\u001b[0m eta \u001b[36m0:00:00\u001b[0m\n",
            "\u001b[2K   \u001b[90m━━━━━━━━━━━━━━━━━━━━━━━━━━━━━━━━━━━━━━━━\u001b[0m \u001b[32m1.7/1.7 MB\u001b[0m \u001b[31m82.5 MB/s\u001b[0m eta \u001b[36m0:00:00\u001b[0m\n",
            "\u001b[2K   \u001b[90m━━━━━━━━━━━━━━━━━━━━━━━━━━━━━━━━━━━━━━━━\u001b[0m \u001b[32m45.3/45.3 kB\u001b[0m \u001b[31m3.2 MB/s\u001b[0m eta \u001b[36m0:00:00\u001b[0m\n",
            "\u001b[2K   \u001b[90m━━━━━━━━━━━━━━━━━━━━━━━━━━━━━━━━━━━━━━━━\u001b[0m \u001b[32m86.6/86.6 kB\u001b[0m \u001b[31m6.1 MB/s\u001b[0m eta \u001b[36m0:00:00\u001b[0m\n",
            "\u001b[2K   \u001b[90m━━━━━━━━━━━━━━━━━━━━━━━━━━━━━━━━━━━━━━━━\u001b[0m \u001b[32m272.8/272.8 kB\u001b[0m \u001b[31m21.2 MB/s\u001b[0m eta \u001b[36m0:00:00\u001b[0m\n",
            "\u001b[2K   \u001b[90m━━━━━━━━━━━━━━━━━━━━━━━━━━━━━━━━━━━━━━━━\u001b[0m \u001b[32m17.1/17.1 MB\u001b[0m \u001b[31m137.3 MB/s\u001b[0m eta \u001b[36m0:00:00\u001b[0m\n",
            "\u001b[2K   \u001b[90m━━━━━━━━━━━━━━━━━━━━━━━━━━━━━━━━━━━━━━━━\u001b[0m \u001b[32m331.1/331.1 kB\u001b[0m \u001b[31m20.1 MB/s\u001b[0m eta \u001b[36m0:00:00\u001b[0m\n",
            "\u001b[2K   \u001b[90m━━━━━━━━━━━━━━━━━━━━━━━━━━━━━━━━━━━━━━━━\u001b[0m \u001b[32m105.0/105.0 kB\u001b[0m \u001b[31m8.0 MB/s\u001b[0m eta \u001b[36m0:00:00\u001b[0m\n",
            "\u001b[?25h  Building wheel for crcmod (setup.py) ... \u001b[?25l\u001b[?25hdone\n",
            "  Building wheel for dill (setup.py) ... \u001b[?25l\u001b[?25hdone\n",
            "  Building wheel for google-apitools (setup.py) ... \u001b[?25l\u001b[?25hdone\n",
            "  Building wheel for hdfs (setup.py) ... \u001b[?25l\u001b[?25hdone\n",
            "  Building wheel for docopt (setup.py) ... \u001b[?25l\u001b[?25hdone\n",
            "\u001b[31mERROR: pip's dependency resolver does not currently take into account all the packages that are installed. This behaviour is the source of the following dependency conflicts.\n",
            "multiprocess 0.70.16 requires dill>=0.3.8, but you have dill 0.3.1.1 which is incompatible.\u001b[0m\u001b[31m\n",
            "\u001b[0m"
          ]
        }
      ],
      "source": [
        "# If you re-run this cell, restart the runtime after install finishes.\n",
        "!pip -q install apache-beam[gcp]\n"
      ]
    },
    {
      "cell_type": "code",
      "source": [
        "import apache_beam as beam\n",
        "from apache_beam.options.pipeline_options import PipelineOptions\n",
        "from apache_beam.transforms.window import FixedWindows\n",
        "from apache_beam import window\n",
        "from apache_beam.io import ReadFromText, WriteToText\n",
        "from apache_beam.utils.timestamp import Timestamp\n",
        "from datetime import datetime\n",
        "import json, os, shutil\n"
      ],
      "metadata": {
        "id": "OkdHONupaeFP"
      },
      "execution_count": 2,
      "outputs": []
    },
    {
      "cell_type": "code",
      "source": [
        "# Make a small CSV with a header row + some rows having an event_time (ISO8601)\n",
        "os.makedirs(\"/content/data\", exist_ok=True)\n",
        "csv_path = \"/content/data/sales.csv\"\n",
        "\n",
        "rows = [\n",
        "    \"order_id,sku,country,quantity,unit_price,event_time\",\n",
        "    \"1,A100,US,1,10.0,2025-10-26T12:00:02\",\n",
        "    \"2,A100,US,2,10.0,2025-10-26T12:00:15\",\n",
        "    \"3,B200,CA,3,7.5,2025-10-26T12:00:34\",\n",
        "    \"4,C300,US,1,12.5,2025-10-26T12:01:03\",\n",
        "    \"5,B200,CA,5,7.5,2025-10-26T12:01:18\",\n",
        "    \"6,A100,MX,2,10.0,2025-10-26T12:01:42\",\n",
        "]\n",
        "\n",
        "with open(csv_path, \"w\") as f:\n",
        "    f.write(\"\\n\".join(rows))\n",
        "\n",
        "print(\"Wrote:\", csv_path)\n",
        "print(open(csv_path).read())\n"
      ],
      "metadata": {
        "colab": {
          "base_uri": "https://localhost:8080/"
        },
        "id": "9_xAA0rKaf2A",
        "outputId": "823e624b-8c21-489c-fd3e-e48062602d1a"
      },
      "execution_count": 3,
      "outputs": [
        {
          "output_type": "stream",
          "name": "stdout",
          "text": [
            "Wrote: /content/data/sales.csv\n",
            "order_id,sku,country,quantity,unit_price,event_time\n",
            "1,A100,US,1,10.0,2025-10-26T12:00:02\n",
            "2,A100,US,2,10.0,2025-10-26T12:00:15\n",
            "3,B200,CA,3,7.5,2025-10-26T12:00:34\n",
            "4,C300,US,1,12.5,2025-10-26T12:01:03\n",
            "5,B200,CA,5,7.5,2025-10-26T12:01:18\n",
            "6,A100,MX,2,10.0,2025-10-26T12:01:42\n"
          ]
        }
      ]
    },
    {
      "cell_type": "code",
      "source": [
        "def parse_csv(line: str):\n",
        "    # skip header\n",
        "    if line.startswith(\"order_id\"):\n",
        "        return None\n",
        "    parts = line.split(\",\")\n",
        "    return {\n",
        "        \"order_id\": int(parts[0]),\n",
        "        \"sku\": parts[1],\n",
        "        \"country\": parts[2],\n",
        "        \"quantity\": int(parts[3]),\n",
        "        \"unit_price\": float(parts[4]),\n",
        "        \"event_time\": parts[5],  # string for now\n",
        "    }\n",
        "\n",
        "def compute_revenue(row):\n",
        "    row = dict(row)\n",
        "    row[\"revenue\"] = row[\"quantity\"] * row[\"unit_price\"]\n",
        "    return row\n",
        "\n",
        "def is_multi_item(row):\n",
        "    return row[\"quantity\"] > 1\n",
        "\n",
        "def partition_by_country(row, n_partitions):\n",
        "    # 0: US, 1: CA, 2: Other\n",
        "    if row[\"country\"] == \"US\": return 0\n",
        "    if row[\"country\"] == \"CA\": return 1\n",
        "    return 2\n",
        "\n",
        "class AddDiscountDoFn(beam.DoFn):\n",
        "    \"\"\"Example ParDo that tags a simple discount for bulk quantity.\"\"\"\n",
        "    def process(self, row):\n",
        "        row = dict(row)\n",
        "        row[\"discount\"] = 0.1 if row[\"quantity\"] >= 3 else 0.0\n",
        "        row[\"final_revenue\"] = row[\"revenue\"] * (1 - row[\"discount\"])\n",
        "        yield row\n"
      ],
      "metadata": {
        "id": "s3xn9iR7ajEK"
      },
      "execution_count": 4,
      "outputs": []
    },
    {
      "cell_type": "code",
      "source": [
        "class CleanAndEnrich(beam.PTransform):\n",
        "    \"\"\"\n",
        "    Composite transform: parse -> filter -> enrich -> pardo\n",
        "    Demonstrates chaining multiple steps under a single, reusable transform.\n",
        "    \"\"\"\n",
        "    def expand(self, pcoll):\n",
        "        return (\n",
        "            pcoll\n",
        "            | \"ParseCSV\" >> beam.Map(parse_csv)\n",
        "            | \"DropNone\" >> beam.Filter(lambda x: x is not None)\n",
        "            | \"KeepMultiItem\" >> beam.Filter(is_multi_item)        # filter\n",
        "            | \"ComputeRevenue\" >> beam.Map(compute_revenue)        # map\n",
        "            | \"AddDiscount\" >> beam.ParDo(AddDiscountDoFn())       # ParDo\n",
        "        )\n"
      ],
      "metadata": {
        "id": "ZN3OWRUQanEM"
      },
      "execution_count": 5,
      "outputs": []
    },
    {
      "cell_type": "code",
      "source": [
        "# Clean previous outputs\n",
        "shutil.rmtree(\"/content/out\", ignore_errors=True)\n",
        "os.makedirs(\"/content/out\", exist_ok=True)\n",
        "\n",
        "pipeline_options = PipelineOptions(\n",
        "    streaming=False,\n",
        "    save_main_session=True,\n",
        ")\n",
        "\n",
        "with beam.Pipeline(options=pipeline_options) as p:\n",
        "    # --- READ (Pipeline IO): ReadFromText\n",
        "    lines = p | \"ReadCSV\" >> ReadFromText(csv_path)\n",
        "\n",
        "    # --- Use composite transform (includes map, filter, ParDo)\n",
        "    enriched = lines | \"CleanAndEnrich\" >> CleanAndEnrich()\n",
        "\n",
        "    # --- PARTITION by country\n",
        "    parts = enriched | \"PartitionByCountry\" >> beam.Partition(partition_by_country, 3)\n",
        "    us_rows, ca_rows, other_rows = parts[0], parts[1], parts[2]\n",
        "\n",
        "    # --- WRITE (Pipeline IO): WriteToText (one file per partition)\n",
        "    (us_rows\n",
        "     | \"US->JSON\" >> beam.Map(json.dumps)\n",
        "     | \"WriteUS\" >> WriteToText(\"/content/out/us\", file_name_suffix=\".json\"))\n",
        "    (ca_rows\n",
        "     | \"CA->JSON\" >> beam.Map(json.dumps)\n",
        "     | \"WriteCA\" >> WriteToText(\"/content/out/ca\", file_name_suffix=\".json\"))\n",
        "    (other_rows\n",
        "     | \"Other->JSON\" >> beam.Map(json.dumps)\n",
        "     | \"WriteOther\" >> WriteToText(\"/content/out/other\", file_name_suffix=\".json\"))\n",
        "\n",
        "print(\"Written files under /content/out :\")\n",
        "!find /content/out -maxdepth 1 -type f -print -exec sh -c 'echo \"----\"; tail -n +1 \"{}\"' \\;\n"
      ],
      "metadata": {
        "colab": {
          "base_uri": "https://localhost:8080/"
        },
        "id": "0mI_ZMkBap7A",
        "outputId": "b8d6cade-dbfe-49d2-98f0-7311fa3a59e5"
      },
      "execution_count": 9,
      "outputs": [
        {
          "output_type": "stream",
          "name": "stderr",
          "text": [
            "WARNING:apache_beam.options.pipeline_options:Discarding unparseable args: ['-f', '/root/.local/share/jupyter/runtime/kernel-eeec2437-1add-49a0-89c7-8805ee975873.json']\n",
            "WARNING:apache_beam.options.pipeline_options:Discarding unparseable args: ['-f', '/root/.local/share/jupyter/runtime/kernel-eeec2437-1add-49a0-89c7-8805ee975873.json']\n",
            "WARNING:apache_beam.options.pipeline_options:Discarding unparseable args: ['-f', '/root/.local/share/jupyter/runtime/kernel-eeec2437-1add-49a0-89c7-8805ee975873.json']\n"
          ]
        },
        {
          "output_type": "stream",
          "name": "stdout",
          "text": [
            "Written files under /content/out :\n",
            "/content/out/other-00000-of-00001.json\n",
            "----\n",
            "{\"order_id\": 6, \"sku\": \"A100\", \"country\": \"MX\", \"quantity\": 2, \"unit_price\": 10.0, \"event_time\": \"2025-10-26T12:01:42\", \"revenue\": 20.0, \"discount\": 0.0, \"final_revenue\": 20.0}\n",
            "/content/out/us-00000-of-00001.json\n",
            "----\n",
            "{\"order_id\": 2, \"sku\": \"A100\", \"country\": \"US\", \"quantity\": 2, \"unit_price\": 10.0, \"event_time\": \"2025-10-26T12:00:15\", \"revenue\": 20.0, \"discount\": 0.0, \"final_revenue\": 20.0}\n",
            "/content/out/ca-00000-of-00001.json\n",
            "----\n",
            "{\"order_id\": 3, \"sku\": \"B200\", \"country\": \"CA\", \"quantity\": 3, \"unit_price\": 7.5, \"event_time\": \"2025-10-26T12:00:34\", \"revenue\": 22.5, \"discount\": 0.1, \"final_revenue\": 20.25}\n",
            "{\"order_id\": 5, \"sku\": \"B200\", \"country\": \"CA\", \"quantity\": 5, \"unit_price\": 7.5, \"event_time\": \"2025-10-26T12:01:18\", \"revenue\": 37.5, \"discount\": 0.1, \"final_revenue\": 33.75}\n"
          ]
        }
      ]
    },
    {
      "cell_type": "code",
      "source": [
        "# Fix: make event_time tz-aware (UTC) before converting to Beam Timestamp\n",
        "from datetime import datetime, timezone\n",
        "import apache_beam as beam\n",
        "from apache_beam.utils.timestamp import Timestamp\n",
        "\n",
        "def to_timestamped(row):\n",
        "    t = datetime.fromisoformat(row[\"event_time\"])\n",
        "    if t.tzinfo is None:\n",
        "        t = t.replace(tzinfo=timezone.utc)  # treat as UTC\n",
        "    return beam.window.TimestampedValue(row, Timestamp.from_utc_datetime(t))\n"
      ],
      "metadata": {
        "id": "VpflpAWbdFw0"
      },
      "execution_count": 12,
      "outputs": []
    },
    {
      "cell_type": "code",
      "source": [
        "from datetime import datetime, timezone\n",
        "import json, os, shutil, glob\n",
        "import apache_beam as beam\n",
        "from apache_beam.options.pipeline_options import PipelineOptions\n",
        "from apache_beam.transforms.window import FixedWindows\n",
        "from apache_beam.io import ReadFromText, WriteToText\n",
        "from apache_beam.utils.timestamp import Timestamp\n",
        "\n",
        "# --- helpers (same as before) ---\n",
        "def parse_csv(line: str):\n",
        "    if line.startswith(\"order_id\"):\n",
        "        return None\n",
        "    parts = line.split(\",\")\n",
        "    return {\n",
        "        \"order_id\": int(parts[0]),\n",
        "        \"sku\": parts[1],\n",
        "        \"country\": parts[2],\n",
        "        \"quantity\": int(parts[3]),\n",
        "        \"unit_price\": float(parts[4]),\n",
        "        \"event_time\": parts[5],\n",
        "    }\n",
        "\n",
        "def compute_revenue(row):\n",
        "    row = dict(row)\n",
        "    row[\"revenue\"] = row[\"quantity\"] * row[\"unit_price\"]\n",
        "    return row\n",
        "\n",
        "def is_multi_item(row):\n",
        "    return row[\"quantity\"] > 1\n",
        "\n",
        "class AddDiscountDoFn(beam.DoFn):\n",
        "    def process(self, row):\n",
        "        row = dict(row)\n",
        "        row[\"discount\"] = 0.1 if row[\"quantity\"] >= 3 else 0.0\n",
        "        row[\"final_revenue\"] = row[\"revenue\"] * (1 - row[\"discount\"])\n",
        "        yield row\n",
        "\n",
        "class CleanAndEnrich(beam.PTransform):\n",
        "    def expand(self, pcoll):\n",
        "        return (\n",
        "            pcoll\n",
        "            | \"ParseCSV\" >> beam.Map(parse_csv)\n",
        "            | \"DropNone\" >> beam.Filter(lambda x: x is not None)\n",
        "            | \"KeepMultiItem\" >> beam.Filter(is_multi_item)\n",
        "            | \"ComputeRevenue\" >> beam.Map(compute_revenue)\n",
        "            | \"AddDiscount\" >> beam.ParDo(AddDiscountDoFn())\n",
        "        )\n",
        "\n",
        "# FIX: make timestamps tz-aware (UTC) before converting\n",
        "def to_timestamped(row):\n",
        "    t = datetime.fromisoformat(row[\"event_time\"])\n",
        "    if t.tzinfo is None:\n",
        "        t = t.replace(tzinfo=timezone.utc)\n",
        "    return beam.window.TimestampedValue(row, Timestamp.from_utc_datetime(t))\n",
        "\n",
        "def to_kv_sku_rev(row):\n",
        "    return (row[\"sku\"], row[\"final_revenue\"])\n",
        "\n",
        "def format_with_window(el, w=beam.DoFn.WindowParam):\n",
        "    sku, rev = el\n",
        "    return json.dumps({\n",
        "        \"window_start\": w.start.to_utc_datetime().isoformat(),\n",
        "        \"window_end\": w.end.to_utc_datetime().isoformat(),\n",
        "        \"sku\": sku,\n",
        "        \"window_revenue\": rev\n",
        "    })\n",
        "\n",
        "# --- paths ---\n",
        "csv_path = \"/content/data/sales.csv\"\n",
        "assert os.path.exists(csv_path), f\"CSV not found at {csv_path}. Run the earlier cell that creates it.\"\n",
        "\n",
        "out_root = \"/content/out\"\n",
        "window_dir = os.path.join(out_root, \"windowed\")\n",
        "# Beam writes shards from a *file prefix*, not a directory. We'll use window_dir + '/part'\n",
        "window_prefix = os.path.join(window_dir, \"part\")\n",
        "\n",
        "# ensure parents exist so listing doesn't fail\n",
        "os.makedirs(out_root, exist_ok=True)\n",
        "shutil.rmtree(window_dir, ignore_errors=True)  # clean previous run\n",
        "os.makedirs(window_dir, exist_ok=True)\n",
        "\n",
        "pipeline_options = PipelineOptions(flags=[], streaming=False, save_main_session=True)\n",
        "\n",
        "with beam.Pipeline(options=pipeline_options) as p:\n",
        "    lines = p | \"ReadCSV-win\" >> ReadFromText(csv_path)\n",
        "\n",
        "    enriched = (\n",
        "        lines\n",
        "        | \"Composite-win\" >> CleanAndEnrich()\n",
        "        | \"AttachTS\" >> beam.Map(to_timestamped)\n",
        "        | \"WindowInto30s\" >> beam.WindowInto(FixedWindows(30))\n",
        "        | \"KVskuRev\" >> beam.Map(to_kv_sku_rev)\n",
        "        | \"SumBySKU\" >> beam.CombinePerKey(sum)\n",
        "    )\n",
        "\n",
        "    _ = (enriched\n",
        "         | \"FmtWindowJSON\" >> beam.Map(format_with_window)\n",
        "         | \"WriteWindowed\" >> WriteToText(window_prefix, file_name_suffix=\".json\"))\n",
        "\n",
        "# list written shards\n",
        "shards = sorted(glob.glob(os.path.join(window_dir, \"*.json*\")))\n",
        "print(\"Windowed results shards:\", shards)\n",
        "for fp in shards:\n",
        "    print(\"----\", os.path.basename(fp))\n",
        "    with open(fp) as f:\n",
        "        print(f.read())\n"
      ],
      "metadata": {
        "colab": {
          "base_uri": "https://localhost:8080/"
        },
        "id": "RyRtTmhUar_a",
        "outputId": "d2525112-8ee9-4579-f08b-4dfdaa73feb2"
      },
      "execution_count": 14,
      "outputs": [
        {
          "output_type": "stream",
          "name": "stdout",
          "text": [
            "Windowed results shards: ['/content/out/windowed/part-00000-of-00001.json']\n",
            "---- part-00000-of-00001.json\n",
            "{\"window_start\": \"2025-10-26T12:00:00\", \"window_end\": \"2025-10-26T12:00:30\", \"sku\": \"A100\", \"window_revenue\": 20.0}\n",
            "{\"window_start\": \"2025-10-26T12:01:30\", \"window_end\": \"2025-10-26T12:02:00\", \"sku\": \"A100\", \"window_revenue\": 20.0}\n",
            "{\"window_start\": \"2025-10-26T12:00:30\", \"window_end\": \"2025-10-26T12:01:00\", \"sku\": \"B200\", \"window_revenue\": 20.25}\n",
            "{\"window_start\": \"2025-10-26T12:01:00\", \"window_end\": \"2025-10-26T12:01:30\", \"sku\": \"B200\", \"window_revenue\": 33.75}\n",
            "\n"
          ]
        }
      ]
    }
  ]
}